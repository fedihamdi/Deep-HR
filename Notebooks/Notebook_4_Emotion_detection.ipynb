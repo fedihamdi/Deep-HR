{
  "nbformat": 4,
  "nbformat_minor": 0,
  "metadata": {
    "colab": {
      "name": "Notebook 4: Emotion detection.ipynb",
      "provenance": []
    },
    "kernelspec": {
      "name": "python3",
      "display_name": "Python 3"
    },
    "language_info": {
      "name": "python"
    }
  },
  "cells": [
    {
      "cell_type": "code",
      "execution_count": null,
      "metadata": {
        "colab": {
          "base_uri": "https://localhost:8080/"
        },
        "id": "-cuvEwAThcl1",
        "outputId": "6d76688b-099e-4b70-de9b-8f9d2ca426ad"
      },
      "outputs": [
        {
          "output_type": "stream",
          "name": "stdout",
          "text": [
            "Mounted at drive/\n"
          ]
        }
      ],
      "source": [
        "import os\n",
        "import shutil\n",
        "from google.colab import drive\n",
        "drive.mount(\"drive/\")"
      ]
    },
    {
      "cell_type": "code",
      "source": [
        "os.chdir(\"/content/drive/MyDrive/HETIC PFA\")"
      ],
      "metadata": {
        "id": "VYW-_JBAjnvd"
      },
      "execution_count": null,
      "outputs": []
    },
    {
      "cell_type": "code",
      "source": [
        "import torch\n",
        "import torchvision\n",
        "import torch.nn as nn\n",
        "import numpy as np\n",
        "import torch.nn.functional as F\n",
        "from torchvision.datasets import ImageFolder\n",
        "from torch.utils.data import DataLoader\n",
        "import torchvision.transforms as tt\n",
        "from torchvision.utils import make_grid\n",
        "import matplotlib.pyplot as plt"
      ],
      "metadata": {
        "id": "g-n1JiOThnRQ"
      },
      "execution_count": null,
      "outputs": []
    },
    {
      "cell_type": "markdown",
      "source": [
        "# Preparation des données"
      ],
      "metadata": {
        "id": "JfBz95MYlGXs"
      }
    },
    {
      "cell_type": "code",
      "source": [
        "!ls"
      ],
      "metadata": {
        "colab": {
          "base_uri": "https://localhost:8080/"
        },
        "id": "C9q2CVy1lNby",
        "outputId": "26f14407-7797-402d-9dd8-d2f477f5e9da"
      },
      "execution_count": null,
      "outputs": [
        {
          "output_type": "stream",
          "name": "stdout",
          "text": [
            "Datasets_images  DeepLabv3+_model.png  Raw_Data\n",
            "deeplab1.png\t Models\t\t       removed_bg_data\n"
          ]
        }
      ]
    },
    {
      "cell_type": "code",
      "source": [
        "data_dir = './removed_bg_data'\n",
        "print(os.listdir(data_dir))"
      ],
      "metadata": {
        "colab": {
          "base_uri": "https://localhost:8080/"
        },
        "id": "_49oiTZlk-gO",
        "outputId": "d0c6a3cc-8a41-4d75-98cc-9f645a4b2211"
      },
      "execution_count": null,
      "outputs": [
        {
          "output_type": "stream",
          "name": "stdout",
          "text": [
            "['AD', 'NAD']\n"
          ]
        }
      ]
    },
    {
      "cell_type": "markdown",
      "source": [
        "## Diviser les données en train test et validation"
      ],
      "metadata": {
        "id": "PxBzLr-CljBk"
      }
    },
    {
      "cell_type": "code",
      "source": [
        "filenames = []\n",
        "for root, dirname, filename in os.walk('/content/drive/MyDrive/HETIC PFA/removed_bg_data'):\n",
        "  filenames.append(filename)\n",
        "filenames = [item for sublist in filenames for item in sublist]"
      ],
      "metadata": {
        "id": "umQdMEuLlxUG"
      },
      "execution_count": null,
      "outputs": []
    },
    {
      "cell_type": "code",
      "source": [
        "#shutil.rmtree(\"/content/temp\")"
      ],
      "metadata": {
        "id": "RaPYigAAmQUg"
      },
      "execution_count": null,
      "outputs": []
    },
    {
      "cell_type": "code",
      "source": [
        "# Decouper les images en train 80%, validation 10% et test 10%\n",
        "os.chdir(\"/content/drive/MyDrive/HETIC PFA/removed_bg_data\")\n",
        "data_dir = os.getcwd()\n",
        "os.mkdir('/content/temp')\n",
        "os.chdir('/content/temp')\n",
        "os.mkdir('train')\n",
        "os.mkdir('validation')\n",
        "os.mkdir('test')\n",
        "os.chdir(\"/content/drive/MyDrive/HETIC PFA/removed_bg_data\")\n",
        "# Split images (80%/10%/10%) and save to temporary folders:\n",
        "for subfolder in os.listdir(data_dir):\n",
        "\n",
        "    # Making a list of all files in current subfolder:\n",
        "    original_path = f'{data_dir}/{subfolder}'\n",
        "    original_data = os.listdir(original_path)\n",
        "    print(original_path)\n",
        "    # Number of samples in each group:\n",
        "    n_samples = len(original_data)\n",
        "    train_samples = int(n_samples * 0.8)\n",
        "    valid_samples = int(n_samples * 0.9)\n",
        "        \n",
        "    train_path = f'/content/temp/train/{subfolder}'\n",
        "    valid_path = f'/content/temp/validation/{subfolder}'\n",
        "    test_path = f'/content/temp/test/{subfolder}'\n",
        "    \n",
        "    # New class subfolder for training:\n",
        "    os.chdir('/content/temp/train')\n",
        "    os.mkdir(subfolder)\n",
        "    \n",
        "    # Training images:\n",
        "    for image, filename in zip(range(train_samples), filenames):\n",
        "        original_file = f'{original_path}/{original_data[image]}'\n",
        "        new_file = f'{train_path}/{original_data[image]}'\n",
        "        shutil.copyfile(original_file, new_file)\n",
        "    \n",
        "    # New class subfolder for validation:\n",
        "    os.chdir('/content/temp/validation')\n",
        "    os.mkdir(subfolder)\n",
        "    \n",
        "    # Validation images:\n",
        "    for image in range(train_samples, valid_samples):\n",
        "        original_file = f'{original_path}/{original_data[image]}'\n",
        "        new_file = f'{valid_path}/{original_data[image]}'\n",
        "        shutil.copyfile(original_file, new_file)\n",
        "    \n",
        "    # New class subfolder for testing:\n",
        "    os.chdir('/content/temp/test')\n",
        "    os.mkdir(subfolder)\n",
        "    \n",
        "    # Test images:\n",
        "    for image in range(valid_samples, n_samples):\n",
        "        original_file = f'{original_path}/{original_data[image]}'\n",
        "        new_file = f'{test_path}/{original_data[image]}'\n",
        "        shutil.copyfile(original_file, new_file)"
      ],
      "metadata": {
        "colab": {
          "base_uri": "https://localhost:8080/"
        },
        "id": "E3M8_zXMlRLE",
        "outputId": "38fcc30d-9840-4919-c6e7-1adbc512f28a"
      },
      "execution_count": null,
      "outputs": [
        {
          "output_type": "stream",
          "name": "stdout",
          "text": [
            "/content/drive/MyDrive/HETIC PFA/removed_bg_data/AD\n",
            "/content/drive/MyDrive/HETIC PFA/removed_bg_data/NAD\n"
          ]
        }
      ]
    },
    {
      "cell_type": "code",
      "source": [
        "data_dir = '/content/temp'\n",
        "print(os.listdir(data_dir))"
      ],
      "metadata": {
        "colab": {
          "base_uri": "https://localhost:8080/"
        },
        "id": "RhTWwxU3nMxm",
        "outputId": "f6746d52-b3b9-48da-f0ab-783ca7a7fbe0"
      },
      "execution_count": null,
      "outputs": [
        {
          "output_type": "stream",
          "name": "stdout",
          "text": [
            "['test', 'validation', 'train']\n"
          ]
        }
      ]
    },
    {
      "cell_type": "code",
      "source": [
        "classes_train = os.listdir(data_dir + \"/train\")\n",
        "classes_valid = os.listdir(data_dir + \"/validation\")\n",
        "print(f'Train Classes - {classes_train}')\n",
        "print(f'Validation Classes - {classes_valid}')\n"
      ],
      "metadata": {
        "colab": {
          "base_uri": "https://localhost:8080/"
        },
        "id": "mIlPcxpdl44n",
        "outputId": "34f046cf-c0c5-461b-f9d9-f9a3d6cd4c72"
      },
      "execution_count": null,
      "outputs": [
        {
          "output_type": "stream",
          "name": "stdout",
          "text": [
            "Train Classes - ['AD', 'NAD']\n",
            "Validation Classes - ['AD', 'NAD']\n"
          ]
        }
      ]
    },
    {
      "cell_type": "code",
      "source": [
        "!ls"
      ],
      "metadata": {
        "colab": {
          "base_uri": "https://localhost:8080/"
        },
        "id": "2bsuDc4wT8J8",
        "outputId": "056ee69f-c13f-46e0-ab6b-136036f17134"
      },
      "execution_count": null,
      "outputs": [
        {
          "output_type": "stream",
          "name": "stdout",
          "text": [
            "AD  NAD\n"
          ]
        }
      ]
    },
    {
      "cell_type": "code",
      "source": [
        "!pwd"
      ],
      "metadata": {
        "colab": {
          "base_uri": "https://localhost:8080/"
        },
        "id": "Qp_YpP3_UA7p",
        "outputId": "df8b3d5e-d6c8-4915-aba1-602288e40ebe"
      },
      "execution_count": null,
      "outputs": [
        {
          "output_type": "stream",
          "name": "stdout",
          "text": [
            "/content/temp/test\n"
          ]
        }
      ]
    },
    {
      "cell_type": "code",
      "source": [
        "os.chdir(\"/content/drive/MyDrive/HETIC PFA\")"
      ],
      "metadata": {
        "id": "n1mwTsIHUC6b"
      },
      "execution_count": null,
      "outputs": []
    },
    {
      "cell_type": "markdown",
      "source": [
        "# Import du modele pour la prediction des sentiement dans chaque image"
      ],
      "metadata": {
        "id": "j5RduLtl5er5"
      }
    },
    {
      "cell_type": "code",
      "source": [
        "def get_default_device():\n",
        "    if torch.cuda.is_available():\n",
        "        return torch.device('cuda')\n",
        "    else:\n",
        "        return torch.device('cpu')\n",
        "    \n",
        "def to_device(data, device):\n",
        "    if isinstance(data, (list,tuple)):\n",
        "        return [to_device(x, device) for x in data]\n",
        "    return data.to(device, non_blocking=True)\n",
        "\n",
        "class DeviceDataLoader():\n",
        "    def __init__(self, dl, device):\n",
        "        self.dl = dl\n",
        "        self.device = device\n",
        "        \n",
        "    def __iter__(self):\n",
        "        for b in self.dl: \n",
        "            yield to_device(b, self.device)\n",
        "\n",
        "    def __len__(self):\n",
        "        return len(self.dl)"
      ],
      "metadata": {
        "id": "lRfdSEZtUwhU"
      },
      "execution_count": null,
      "outputs": []
    },
    {
      "cell_type": "code",
      "source": [
        "device = get_default_device()\n",
        "device"
      ],
      "metadata": {
        "colab": {
          "base_uri": "https://localhost:8080/"
        },
        "id": "J5J19H8LU9IQ",
        "outputId": "b172eb52-4666-42a6-c3c9-5afd85ca98ec"
      },
      "execution_count": null,
      "outputs": [
        {
          "output_type": "execute_result",
          "data": {
            "text/plain": [
              "device(type='cpu')"
            ]
          },
          "metadata": {},
          "execution_count": 15
        }
      ]
    },
    {
      "cell_type": "code",
      "source": [
        "device = torch.device(device)"
      ],
      "metadata": {
        "id": "uyLbjB12VMGo"
      },
      "execution_count": null,
      "outputs": []
    },
    {
      "cell_type": "code",
      "source": [
        "device"
      ],
      "metadata": {
        "colab": {
          "base_uri": "https://localhost:8080/"
        },
        "id": "IDr4sT1kVmy7",
        "outputId": "158f4c38-baa9-41c8-b3df-d245c4a8b81c"
      },
      "execution_count": null,
      "outputs": [
        {
          "output_type": "execute_result",
          "data": {
            "text/plain": [
              "device(type='cpu')"
            ]
          },
          "metadata": {},
          "execution_count": 17
        }
      ]
    },
    {
      "cell_type": "code",
      "source": [
        "class_labels = ['Fear', 'Sad', 'Happy', 'Disgust', 'Surprise', 'Angry', 'Neutral']"
      ],
      "metadata": {
        "id": "dFk_hRyHnhUp"
      },
      "execution_count": null,
      "outputs": []
    },
    {
      "cell_type": "code",
      "source": [
        "def accuracy(outputs, labels):\n",
        "    _, preds = torch.max(outputs, dim=1)\n",
        "    return torch.tensor(torch.sum(preds == labels).item() / len(preds))\n",
        "\n",
        "class ImageClassificationBase(nn.Module):\n",
        "    def training_step(self, batch):\n",
        "        images, labels = batch \n",
        "        out = self(images)\n",
        "        loss = F.cross_entropy(out, labels)\n",
        "        return loss\n",
        "    \n",
        "    def validation_step(self, batch):\n",
        "        images, labels = batch \n",
        "        out = self(images)\n",
        "        loss = F.cross_entropy(out, labels)\n",
        "        acc = accuracy(out, labels)\n",
        "        return {'val_loss': loss.detach(), 'val_acc': acc}\n",
        "        \n",
        "    def validation_epoch_end(self, outputs):\n",
        "        batch_losses = [x['val_loss'] for x in outputs]\n",
        "        epoch_loss = torch.stack(batch_losses).mean()\n",
        "        batch_accs = [x['val_acc'] for x in outputs]\n",
        "        epoch_acc = torch.stack(batch_accs).mean()\n",
        "        return {'val_loss': epoch_loss.item(), 'val_acc': epoch_acc.item()}\n",
        "    \n",
        "    def epoch_end(self, epoch, result):\n",
        "        print(\"Epoch [{}], last_lr: {:.5f}, train_loss: {:.4f}, val_loss: {:.4f}, val_acc: {:.4f}\".format(\n",
        "            epoch, result['lrs'][-1], result['train_loss'], result['val_loss'], result['val_acc']))"
      ],
      "metadata": {
        "id": "lrN0PpM1WaHO"
      },
      "execution_count": null,
      "outputs": []
    },
    {
      "cell_type": "code",
      "source": [
        "def conv_block(in_channels, out_channels, pool=False):\n",
        "    layers = [nn.Conv2d(in_channels, out_channels, kernel_size=3, padding=1), \n",
        "              nn.BatchNorm2d(out_channels), \n",
        "              nn.ELU(inplace=True)]\n",
        "    if pool: layers.append(nn.MaxPool2d(2))\n",
        "    return nn.Sequential(*layers)\n",
        "\n",
        "class ResNet(ImageClassificationBase):\n",
        "    def __init__(self, in_channels, num_classes):\n",
        "        super().__init__()\n",
        "        \n",
        "        self.conv1 = conv_block(in_channels, 128)\n",
        "        self.conv2 = conv_block(128, 128, pool=True)\n",
        "        self.res1 = nn.Sequential(conv_block(128, 128), conv_block(128, 128))\n",
        "        self.drop1 = nn.Dropout(0.5)\n",
        "        \n",
        "        self.conv3 = conv_block(128, 256)\n",
        "        self.conv4 = conv_block(256, 256, pool=True)\n",
        "        self.res2 = nn.Sequential(conv_block(256, 256), conv_block(256, 256))\n",
        "        self.drop2 = nn.Dropout(0.5)\n",
        "        \n",
        "        self.conv5 = conv_block(256, 512)\n",
        "        self.conv6 = conv_block(512, 512, pool=True)\n",
        "        self.res3 = nn.Sequential(conv_block(512, 512), conv_block(512, 512))\n",
        "        self.drop3 = nn.Dropout(0.5)\n",
        "        \n",
        "        self.classifier = nn.Sequential(nn.MaxPool2d(6), \n",
        "                                        nn.Flatten(),\n",
        "                                        nn.Linear(512, num_classes))\n",
        "        \n",
        "    def forward(self, xb):\n",
        "        out = self.conv1(xb)\n",
        "        out = self.conv2(out)\n",
        "        out = self.res1(out) + out\n",
        "        out = self.drop1(out)\n",
        "        \n",
        "        out = self.conv3(out)\n",
        "        out = self.conv4(out)\n",
        "        out = self.res2(out) + out\n",
        "        out = self.drop2(out)\n",
        "        \n",
        "        out = self.conv5(out)\n",
        "        out = self.conv6(out)\n",
        "        out = self.res3(out) + out\n",
        "        out = self.drop3(out)\n",
        "        \n",
        "        out = self.classifier(out)\n",
        "        return out"
      ],
      "metadata": {
        "id": "eQkbc4baTz8K"
      },
      "execution_count": null,
      "outputs": []
    },
    {
      "cell_type": "code",
      "source": [
        "len(class_labels)"
      ],
      "metadata": {
        "colab": {
          "base_uri": "https://localhost:8080/"
        },
        "id": "hNAKaVQPZXbi",
        "outputId": "3d508ef1-8190-42f9-e127-8ce90c4ae2da"
      },
      "execution_count": null,
      "outputs": [
        {
          "output_type": "execute_result",
          "data": {
            "text/plain": [
              "7"
            ]
          },
          "metadata": {},
          "execution_count": 21
        }
      ]
    },
    {
      "cell_type": "code",
      "source": [
        "model = to_device(ResNet(1, len(class_labels)), device)\n",
        "model"
      ],
      "metadata": {
        "id": "BTqFwFApYiAd"
      },
      "execution_count": null,
      "outputs": []
    },
    {
      "cell_type": "code",
      "source": [
        "for param in model.parameters():\n",
        "    print(param.shape)"
      ],
      "metadata": {
        "id": "EhbP4jR8ZHEZ"
      },
      "execution_count": null,
      "outputs": []
    },
    {
      "cell_type": "code",
      "source": [
        "model_state = torch.load(\"./Models/emotion_detection_model_state.pth\", map_location=device)\n",
        "model.load_state_dict(model_state)"
      ],
      "metadata": {
        "colab": {
          "base_uri": "https://localhost:8080/"
        },
        "id": "scSjTHqYV9s8",
        "outputId": "19e17733-faa9-4a21-b3f7-9be7a7c34d3e"
      },
      "execution_count": null,
      "outputs": [
        {
          "output_type": "execute_result",
          "data": {
            "text/plain": [
              "<All keys matched successfully>"
            ]
          },
          "metadata": {},
          "execution_count": 24
        }
      ]
    },
    {
      "cell_type": "code",
      "source": [
        "data_dir"
      ],
      "metadata": {
        "colab": {
          "base_uri": "https://localhost:8080/",
          "height": 35
        },
        "id": "iRUj-DvkaDYn",
        "outputId": "7e6dbe80-ba9a-498c-fea2-00b440e6d85f"
      },
      "execution_count": null,
      "outputs": [
        {
          "output_type": "execute_result",
          "data": {
            "text/plain": [
              "'/content/temp'"
            ],
            "application/vnd.google.colaboratory.intrinsic+json": {
              "type": "string"
            }
          },
          "metadata": {},
          "execution_count": 25
        }
      ]
    },
    {
      "cell_type": "markdown",
      "source": [
        "## preparer les données pour la prediction des sentiments"
      ],
      "metadata": {
        "id": "veE_-KYF5qtp"
      }
    },
    {
      "cell_type": "code",
      "source": [
        "import torchvision.transforms as tt\n",
        "tfms = tt.Compose([tt.Grayscale(num_output_channels=1), tt.Resize((48, 48)), tt.ToTensor() ])"
      ],
      "metadata": {
        "id": "5-dWgJ-maW2Y"
      },
      "execution_count": null,
      "outputs": []
    },
    {
      "cell_type": "code",
      "source": [
        "test_dataset = ImageFolder(data_dir+'/test', tfms)"
      ],
      "metadata": {
        "id": "0F92_GWIWDTr"
      },
      "execution_count": null,
      "outputs": []
    },
    {
      "cell_type": "code",
      "source": [
        "test_dataset_normal = ImageFolder(data_dir+'/test', tt.ToTensor())"
      ],
      "metadata": {
        "id": "Amtyg79Aq5h7"
      },
      "execution_count": null,
      "outputs": []
    },
    {
      "cell_type": "code",
      "source": [
        "def predict_image(img, model):\n",
        "    # Convert to a batch of 1\n",
        "    xb = to_device(img.unsqueeze(0), device)\n",
        "    # Get predictions from model\n",
        "    yb = model(xb)\n",
        "    # Pick index with highest probability\n",
        "    _, preds  = torch.max(yb, dim=1)\n",
        "    # Retrieve the class label\n",
        "    #print(yb[:5].data)#yb.detach().numpy()\n",
        "    return class_labels[preds[0].item()], yb"
      ],
      "metadata": {
        "id": "kOd0TQzmYjQi"
      },
      "execution_count": null,
      "outputs": []
    },
    {
      "cell_type": "markdown",
      "source": [
        "# Test, application et prediction des sentiments"
      ],
      "metadata": {
        "id": "g4IjAXhD5vtI"
      }
    },
    {
      "cell_type": "code",
      "source": [
        "img, label = test_dataset[0]\n",
        "img_normal, _ = test_dataset_normal[0]\n",
        "plt.imshow(np.squeeze(img_normal.permute(1, 2, 0)))\n",
        "print('Label:', test_dataset.classes[label], ', Predicted:', predict_image(img, model)[0])"
      ],
      "metadata": {
        "colab": {
          "base_uri": "https://localhost:8080/",
          "height": 286
        },
        "id": "DLIs8JWQbvYx",
        "outputId": "a2690fd9-e61e-40ef-9d29-441bfcd020b7"
      },
      "execution_count": null,
      "outputs": [
        {
          "output_type": "stream",
          "name": "stdout",
          "text": [
            "Label: AD , Predicted: Disgust\n"
          ]
        },
        {
          "output_type": "display_data",
          "data": {
            "text/plain": [
              "<Figure size 432x288 with 1 Axes>"
            ],
            "image/png": "[encoded data removed]"
          },
          "metadata": {
            "needs_background": "light"
          }
        }
      ]
    },
    {
      "cell_type": "markdown",
      "source": [
        ">> TODO for later: ajouter le detecteur de visage et ensuite labeliser les image de facon directe pour tous les images"
      ],
      "metadata": {
        "id": "oBCIaukwtzMo"
      }
    },
    {
      "cell_type": "markdown",
      "source": [
        "# Ajout de la fonctionnalité d'associé les sentiment avec des probabilité"
      ],
      "metadata": {
        "id": "iMdi29_f6DFn"
      }
    },
    {
      "cell_type": "code",
      "source": [
        "dataset = ImageFolder(os.getcwd()+\"/removed_bg_data\", tfms)\n",
        "img, label = dataset[0]\n",
        "_, output = predict_image(img, model)\n",
        "print('Predicted sentiment:', predict_image(img, model)[0])\n",
        "probs = F.softmax(output, dim=1)\n",
        "print(class_labels)\n",
        "\n",
        "# Look at sample probabilities\n",
        "print(\"Sample probabilities:\\n\", probs[:].data.tolist())"
      ],
      "metadata": {
        "id": "h0HVlDQOfVzZ",
        "colab": {
          "base_uri": "https://localhost:8080/"
        },
        "outputId": "28d8d7e3-35db-4762-ee1f-20fc4fd3206d"
      },
      "execution_count": null,
      "outputs": [
        {
          "output_type": "stream",
          "name": "stdout",
          "text": [
            "Predicted sentiment: Happy\n",
            "['Fear', 'Sad', 'Happy', 'Disgust', 'Surprise', 'Angry', 'Neutral']\n",
            "Sample probabilities:\n",
            " [[0.2853947877883911, 0.005285860039293766, 0.38110148906707764, 0.12351710349321365, 0.05983614921569824, 0.10262921452522278, 0.04223543033003807], [0.2853947877883911, 0.005285860039293766, 0.38110148906707764, 0.12351710349321365, 0.05983614921569824, 0.10262921452522278, 0.04223543033003807], [0.2853947877883911, 0.005285860039293766, 0.38110148906707764, 0.12351710349321365, 0.05983614921569824, 0.10262921452522278, 0.04223543033003807], [0.2853947877883911, 0.005285860039293766, 0.38110148906707764, 0.12351710349321365, 0.05983614921569824, 0.10262921452522278, 0.04223543033003807], [0.2853947877883911, 0.005285860039293766, 0.38110148906707764, 0.12351710349321365, 0.05983614921569824, 0.10262921452522278, 0.04223543033003807], [0.2853947877883911, 0.005285860039293766, 0.38110148906707764, 0.12351710349321365, 0.05983614921569824, 0.10262921452522278, 0.04223543033003807], [0.2853947877883911, 0.005285860039293766, 0.38110148906707764, 0.12351710349321365, 0.05983614921569824, 0.10262921452522278, 0.04223543033003807], [0.2853947877883911, 0.005285860039293766, 0.38110148906707764, 0.12351710349321365, 0.05983614921569824, 0.10262921452522278, 0.04223543033003807], [0.2853947877883911, 0.005285860039293766, 0.38110148906707764, 0.12351710349321365, 0.05983614921569824, 0.10262921452522278, 0.04223543033003807], [0.2853947877883911, 0.005285860039293766, 0.38110148906707764, 0.12351710349321365, 0.05983614921569824, 0.10262921452522278, 0.04223543033003807], [0.2853947877883911, 0.005285860039293766, 0.38110148906707764, 0.12351710349321365, 0.05983614921569824, 0.10262921452522278, 0.04223543033003807], [0.2853947877883911, 0.005285860039293766, 0.38110148906707764, 0.12351710349321365, 0.05983614921569824, 0.10262921452522278, 0.04223543033003807], [0.2853947877883911, 0.005285860039293766, 0.38110148906707764, 0.12351710349321365, 0.05983614921569824, 0.10262921452522278, 0.04223543033003807], [0.2853947877883911, 0.005285860039293766, 0.38110148906707764, 0.12351710349321365, 0.05983614921569824, 0.10262921452522278, 0.04223543033003807], [0.2853947877883911, 0.005285860039293766, 0.38110148906707764, 0.12351710349321365, 0.05983614921569824, 0.10262921452522278, 0.04223543033003807], [0.2853947877883911, 0.005285860039293766, 0.38110148906707764, 0.12351710349321365, 0.05983614921569824, 0.10262921452522278, 0.04223543033003807], [0.2853947877883911, 0.005285860039293766, 0.38110148906707764, 0.12351710349321365, 0.05983614921569824, 0.10262921452522278, 0.04223543033003807], [0.2853947877883911, 0.005285860039293766, 0.38110148906707764, 0.12351710349321365, 0.05983614921569824, 0.10262921452522278, 0.04223543033003807], [0.2853947877883911, 0.005285860039293766, 0.38110148906707764, 0.12351710349321365, 0.05983614921569824, 0.10262921452522278, 0.04223543033003807], [0.2853947877883911, 0.005285860039293766, 0.38110148906707764, 0.12351710349321365, 0.05983614921569824, 0.10262921452522278, 0.04223543033003807], [0.2853947877883911, 0.005285860039293766, 0.38110148906707764, 0.12351710349321365, 0.05983614921569824, 0.10262921452522278, 0.04223543033003807], [0.2853947877883911, 0.005285860039293766, 0.38110148906707764, 0.12351710349321365, 0.05983614921569824, 0.10262921452522278, 0.04223543033003807], [0.2853947877883911, 0.005285860039293766, 0.38110148906707764, 0.12351710349321365, 0.05983614921569824, 0.10262921452522278, 0.04223543033003807], [0.2853947877883911, 0.005285860039293766, 0.38110148906707764, 0.12351710349321365, 0.05983614921569824, 0.10262921452522278, 0.04223543033003807], [0.2853947877883911, 0.005285860039293766, 0.38110148906707764, 0.12351710349321365, 0.05983614921569824, 0.10262921452522278, 0.04223543033003807], [0.2853947877883911, 0.005285860039293766, 0.38110148906707764, 0.12351710349321365, 0.05983614921569824, 0.10262921452522278, 0.04223543033003807], [0.2853947877883911, 0.005285860039293766, 0.38110148906707764, 0.12351710349321365, 0.05983614921569824, 0.10262921452522278, 0.04223543033003807], [0.2853947877883911, 0.005285860039293766, 0.38110148906707764, 0.12351710349321365, 0.05983614921569824, 0.10262921452522278, 0.04223543033003807], [0.2853947877883911, 0.005285860039293766, 0.38110148906707764, 0.12351710349321365, 0.05983614921569824, 0.10262921452522278, 0.04223543033003807], [0.2853947877883911, 0.005285860039293766, 0.38110148906707764, 0.12351710349321365, 0.05983614921569824, 0.10262921452522278, 0.04223543033003807], [0.2853947877883911, 0.005285860039293766, 0.38110148906707764, 0.12351710349321365, 0.05983614921569824, 0.10262921452522278, 0.04223543033003807], [0.2853947877883911, 0.005285860039293766, 0.38110148906707764, 0.12351710349321365, 0.05983614921569824, 0.10262921452522278, 0.04223543033003807], [0.2853947877883911, 0.005285860039293766, 0.38110148906707764, 0.12351710349321365, 0.05983614921569824, 0.10262921452522278, 0.04223543033003807], [0.2853947877883911, 0.005285860039293766, 0.38110148906707764, 0.12351710349321365, 0.05983614921569824, 0.10262921452522278, 0.04223543033003807], [0.2853947877883911, 0.005285860039293766, 0.38110148906707764, 0.12351710349321365, 0.05983614921569824, 0.10262921452522278, 0.04223543033003807], [0.2853947877883911, 0.005285860039293766, 0.38110148906707764, 0.12351710349321365, 0.05983614921569824, 0.10262921452522278, 0.04223543033003807], [0.2853947877883911, 0.005285860039293766, 0.38110148906707764, 0.12351710349321365, 0.05983614921569824, 0.10262921452522278, 0.04223543033003807], [0.2853947877883911, 0.005285860039293766, 0.38110148906707764, 0.12351710349321365, 0.05983614921569824, 0.10262921452522278, 0.04223543033003807], [0.2853947877883911, 0.005285860039293766, 0.38110148906707764, 0.12351710349321365, 0.05983614921569824, 0.10262921452522278, 0.04223543033003807], [0.2853947877883911, 0.005285860039293766, 0.38110148906707764, 0.12351710349321365, 0.05983614921569824, 0.10262921452522278, 0.04223543033003807], [0.2853947877883911, 0.005285860039293766, 0.38110148906707764, 0.12351710349321365, 0.05983614921569824, 0.10262921452522278, 0.04223543033003807], [0.2853947877883911, 0.005285860039293766, 0.38110148906707764, 0.12351710349321365, 0.05983614921569824, 0.10262921452522278, 0.04223543033003807], [0.2853947877883911, 0.005285860039293766, 0.38110148906707764, 0.12351710349321365, 0.05983614921569824, 0.10262921452522278, 0.04223543033003807], [0.2853947877883911, 0.005285860039293766, 0.38110148906707764, 0.12351710349321365, 0.05983614921569824, 0.10262921452522278, 0.04223543033003807], [0.2853947877883911, 0.005285860039293766, 0.38110148906707764, 0.12351710349321365, 0.05983614921569824, 0.10262921452522278, 0.04223543033003807], [0.2853947877883911, 0.005285860039293766, 0.38110148906707764, 0.12351710349321365, 0.05983614921569824, 0.10262921452522278, 0.04223543033003807], [0.2853947877883911, 0.005285860039293766, 0.38110148906707764, 0.12351710349321365, 0.05983614921569824, 0.10262921452522278, 0.04223543033003807], [0.2853947877883911, 0.005285860039293766, 0.38110148906707764, 0.12351710349321365, 0.05983614921569824, 0.10262921452522278, 0.04223543033003807], [0.2853947877883911, 0.005285860039293766, 0.38110148906707764, 0.12351710349321365, 0.05983614921569824, 0.10262921452522278, 0.04223543033003807], [0.2853947877883911, 0.005285860039293766, 0.38110148906707764, 0.12351710349321365, 0.05983614921569824, 0.10262921452522278, 0.04223543033003807], [0.2853947877883911, 0.005285860039293766, 0.38110148906707764, 0.12351710349321365, 0.05983614921569824, 0.10262921452522278, 0.04223543033003807], [0.2853947877883911, 0.005285860039293766, 0.38110148906707764, 0.12351710349321365, 0.05983614921569824, 0.10262921452522278, 0.04223543033003807], [0.2853947877883911, 0.005285860039293766, 0.38110148906707764, 0.12351710349321365, 0.05983614921569824, 0.10262921452522278, 0.04223543033003807], [0.2853947877883911, 0.005285860039293766, 0.38110148906707764, 0.12351710349321365, 0.05983614921569824, 0.10262921452522278, 0.04223543033003807], [0.2853947877883911, 0.005285860039293766, 0.38110148906707764, 0.12351710349321365, 0.05983614921569824, 0.10262921452522278, 0.04223543033003807], [0.2853947877883911, 0.005285860039293766, 0.38110148906707764, 0.12351710349321365, 0.05983614921569824, 0.10262921452522278, 0.04223543033003807], [0.2853947877883911, 0.005285860039293766, 0.38110148906707764, 0.12351710349321365, 0.05983614921569824, 0.10262921452522278, 0.04223543033003807], [0.2853947877883911, 0.005285860039293766, 0.38110148906707764, 0.12351710349321365, 0.05983614921569824, 0.10262921452522278, 0.04223543033003807], [0.2853947877883911, 0.005285860039293766, 0.38110148906707764, 0.12351710349321365, 0.05983614921569824, 0.10262921452522278, 0.04223543033003807], [0.2853947877883911, 0.005285860039293766, 0.38110148906707764, 0.12351710349321365, 0.05983614921569824, 0.10262921452522278, 0.04223543033003807], [0.2853947877883911, 0.005285860039293766, 0.38110148906707764, 0.12351710349321365, 0.05983614921569824, 0.10262921452522278, 0.04223543033003807], [0.2853947877883911, 0.005285860039293766, 0.38110148906707764, 0.12351710349321365, 0.05983614921569824, 0.10262921452522278, 0.04223543033003807], [0.2853947877883911, 0.005285860039293766, 0.38110148906707764, 0.12351710349321365, 0.05983614921569824, 0.10262921452522278, 0.04223543033003807], [0.2853947877883911, 0.005285860039293766, 0.38110148906707764, 0.12351710349321365, 0.05983614921569824, 0.10262921452522278, 0.04223543033003807], [0.2853947877883911, 0.005285860039293766, 0.38110148906707764, 0.12351710349321365, 0.05983614921569824, 0.10262921452522278, 0.04223543033003807], [0.2853947877883911, 0.005285860039293766, 0.38110148906707764, 0.12351710349321365, 0.05983614921569824, 0.10262921452522278, 0.04223543033003807], [0.2853947877883911, 0.005285860039293766, 0.38110148906707764, 0.12351710349321365, 0.05983614921569824, 0.10262921452522278, 0.04223543033003807], [0.2853947877883911, 0.005285860039293766, 0.38110148906707764, 0.12351710349321365, 0.05983614921569824, 0.10262921452522278, 0.04223543033003807], [0.2853947877883911, 0.005285860039293766, 0.38110148906707764, 0.12351710349321365, 0.05983614921569824, 0.10262921452522278, 0.04223543033003807], [0.2853947877883911, 0.005285860039293766, 0.38110148906707764, 0.12351710349321365, 0.05983614921569824, 0.10262921452522278, 0.04223543033003807], [0.2853947877883911, 0.005285860039293766, 0.38110148906707764, 0.12351710349321365, 0.05983614921569824, 0.10262921452522278, 0.04223543033003807], [0.2853947877883911, 0.005285860039293766, 0.38110148906707764, 0.12351710349321365, 0.05983614921569824, 0.10262921452522278, 0.04223543033003807], [0.2853947877883911, 0.005285860039293766, 0.38110148906707764, 0.12351710349321365, 0.05983614921569824, 0.10262921452522278, 0.04223543033003807], [0.2853947877883911, 0.005285860039293766, 0.38110148906707764, 0.12351710349321365, 0.05983614921569824, 0.10262921452522278, 0.04223543033003807], [0.2853947877883911, 0.005285860039293766, 0.38110148906707764, 0.12351710349321365, 0.05983614921569824, 0.10262921452522278, 0.04223543033003807], [0.2853947877883911, 0.005285860039293766, 0.38110148906707764, 0.12351710349321365, 0.05983614921569824, 0.10262921452522278, 0.04223543033003807], [0.2853947877883911, 0.005285860039293766, 0.38110148906707764, 0.12351710349321365, 0.05983614921569824, 0.10262921452522278, 0.04223543033003807], [0.2853947877883911, 0.005285860039293766, 0.38110148906707764, 0.12351710349321365, 0.05983614921569824, 0.10262921452522278, 0.04223543033003807], [0.2853947877883911, 0.005285860039293766, 0.38110148906707764, 0.12351710349321365, 0.05983614921569824, 0.10262921452522278, 0.04223543033003807], [0.2853947877883911, 0.005285860039293766, 0.38110148906707764, 0.12351710349321365, 0.05983614921569824, 0.10262921452522278, 0.04223543033003807], [0.2853947877883911, 0.005285860039293766, 0.38110148906707764, 0.12351710349321365, 0.05983614921569824, 0.10262921452522278, 0.04223543033003807], [0.2853947877883911, 0.005285860039293766, 0.38110148906707764, 0.12351710349321365, 0.05983614921569824, 0.10262921452522278, 0.04223543033003807], [0.2853947877883911, 0.005285860039293766, 0.38110148906707764, 0.12351710349321365, 0.05983614921569824, 0.10262921452522278, 0.04223543033003807], [0.2853947877883911, 0.005285860039293766, 0.38110148906707764, 0.12351710349321365, 0.05983614921569824, 0.10262921452522278, 0.04223543033003807], [0.2853947877883911, 0.005285860039293766, 0.38110148906707764, 0.12351710349321365, 0.05983614921569824, 0.10262921452522278, 0.04223543033003807], [0.2853947877883911, 0.005285860039293766, 0.38110148906707764, 0.12351710349321365, 0.05983614921569824, 0.10262921452522278, 0.04223543033003807], [0.2853947877883911, 0.005285860039293766, 0.38110148906707764, 0.12351710349321365, 0.05983614921569824, 0.10262921452522278, 0.04223543033003807], [0.2853947877883911, 0.005285860039293766, 0.38110148906707764, 0.12351710349321365, 0.05983614921569824, 0.10262921452522278, 0.04223543033003807], [0.2853947877883911, 0.005285860039293766, 0.38110148906707764, 0.12351710349321365, 0.05983614921569824, 0.10262921452522278, 0.04223543033003807], [0.2853947877883911, 0.005285860039293766, 0.38110148906707764, 0.12351710349321365, 0.05983614921569824, 0.10262921452522278, 0.04223543033003807], [0.2853947877883911, 0.005285860039293766, 0.38110148906707764, 0.12351710349321365, 0.05983614921569824, 0.10262921452522278, 0.04223543033003807], [0.2853947877883911, 0.005285860039293766, 0.38110148906707764, 0.12351710349321365, 0.05983614921569824, 0.10262921452522278, 0.04223543033003807], [0.2853947877883911, 0.005285860039293766, 0.38110148906707764, 0.12351710349321365, 0.05983614921569824, 0.10262921452522278, 0.04223543033003807], [0.2853947877883911, 0.005285860039293766, 0.38110148906707764, 0.12351710349321365, 0.05983614921569824, 0.10262921452522278, 0.04223543033003807], [0.2853947877883911, 0.005285860039293766, 0.38110148906707764, 0.12351710349321365, 0.05983614921569824, 0.10262921452522278, 0.04223543033003807], [0.2853947877883911, 0.005285860039293766, 0.38110148906707764, 0.12351710349321365, 0.05983614921569824, 0.10262921452522278, 0.04223543033003807], [0.2853947877883911, 0.005285860039293766, 0.38110148906707764, 0.12351710349321365, 0.05983614921569824, 0.10262921452522278, 0.04223543033003807], [0.2853947877883911, 0.005285860039293766, 0.38110148906707764, 0.12351710349321365, 0.05983614921569824, 0.10262921452522278, 0.04223543033003807], [0.2853947877883911, 0.005285860039293766, 0.38110148906707764, 0.12351710349321365, 0.05983614921569824, 0.10262921452522278, 0.04223543033003807], [0.2853947877883911, 0.005285860039293766, 0.38110148906707764, 0.12351710349321365, 0.05983614921569824, 0.10262921452522278, 0.04223543033003807]]\n"
          ]
        }
      ]
    },
    {
      "cell_type": "code",
      "source": [
        "proba_list = probs[:].data.tolist()[0]"
      ],
      "metadata": {
        "id": "0VSFSDISJIC7"
      },
      "execution_count": null,
      "outputs": []
    },
    {
      "cell_type": "code",
      "source": [
        "proba_list = [np.round(num*100, 2) for num in proba_list]\n"
      ],
      "metadata": {
        "id": "3zVftxj8cP4M"
      },
      "execution_count": null,
      "outputs": []
    },
    {
      "cell_type": "code",
      "source": [
        "proba_list"
      ],
      "metadata": {
        "colab": {
          "base_uri": "https://localhost:8080/"
        },
        "id": "LnKo3aenciFx",
        "outputId": "b85e7b7b-b386-460d-b267-886b16c2e7a1"
      },
      "execution_count": null,
      "outputs": [
        {
          "output_type": "execute_result",
          "data": {
            "text/plain": [
              "[28.54, 0.53, 38.11, 12.35, 5.98, 10.26, 4.22]"
            ]
          },
          "metadata": {},
          "execution_count": 144
        }
      ]
    },
    {
      "cell_type": "code",
      "source": [
        "dataset_loader = DataLoader(dataset, 1, num_workers=2, pin_memory=True)"
      ],
      "metadata": {
        "id": "0tHNqPQMgOFC"
      },
      "execution_count": null,
      "outputs": []
    },
    {
      "cell_type": "code",
      "source": [
        "!ls"
      ],
      "metadata": {
        "colab": {
          "base_uri": "https://localhost:8080/"
        },
        "id": "LkKZ5-yAvLz8",
        "outputId": "97abe9cf-9a29-4703-bfb8-df89f14dc517"
      },
      "execution_count": null,
      "outputs": [
        {
          "output_type": "stream",
          "name": "stdout",
          "text": [
            "data_sentiment_dictionary.pkl  deeplab1.png\t     Models    removed_bg_data\n",
            "Datasets_images\t\t       DeepLabv3+_model.png  Raw_Data\n"
          ]
        }
      ]
    },
    {
      "cell_type": "code",
      "source": [
        "dataset_normal = ImageFolder(os.getcwd()+\"/Raw_Data\", tt.ToTensor())\n",
        "dataset_normal_rbg = ImageFolder(os.getcwd()+\"/removed_bg_data\", tt.ToTensor())"
      ],
      "metadata": {
        "id": "kN2eL4Xiu-2o"
      },
      "execution_count": null,
      "outputs": []
    },
    {
      "cell_type": "markdown",
      "source": [
        "# Enregistrer les images et les sentiments"
      ],
      "metadata": {
        "id": "r9NiMtz_6hv3"
      }
    },
    {
      "cell_type": "code",
      "source": [
        "dict_to_save = {\"raw_images\":[],\n",
        "                \"rbg_images\":[],\n",
        "                'images_to_sentiment':[],\n",
        "                'Fear':[],\n",
        "                'Sad':[],\n",
        "                'Happy':[],\n",
        "                'Disgust':[],\n",
        "                'Surprise':[],\n",
        "                'Angry':[],\n",
        "                'Neutral':[],\n",
        "                'Label':[]}\n",
        "\n",
        "for i in range(len(dataset)):\n",
        "  #load image and its label\n",
        "  images, labels = dataset[i]\n",
        "  normal_image, _ = dataset_normal[i]\n",
        "  rbg_image, _ = dataset_normal_rbg[i]\n",
        "  # make prediction of the sentiment\n",
        "  output = predict_image(images, model)[1]\n",
        "  # probabilité lié à chaque sentiment\n",
        "  probs = F.softmax(output, dim=1)\n",
        "  proba_list = probs[:].data.tolist()[0]\n",
        "  proba_list = [np.round(num*100, 2) for num in proba_list]\n",
        "\n",
        "  dict_to_save['raw_images'].append(normal_image.cpu().detach().numpy())\n",
        "  dict_to_save['rbg_images'].append(rbg_image.cpu().detach().numpy())\n",
        "  dict_to_save['images_to_sentiment'].append(images.cpu().detach().numpy())\n",
        "  dict_to_save['Fear'].append(proba_list[0])\n",
        "  dict_to_save['Sad'].append(proba_list[1])\n",
        "  dict_to_save['Happy'].append(proba_list[2])\n",
        "  dict_to_save['Disgust'].append(proba_list[3])\n",
        "  dict_to_save['Surprise'].append(proba_list[4])\n",
        "  dict_to_save['Angry'].append(proba_list[5])\n",
        "  dict_to_save['Neutral'].append(proba_list[6])\n",
        "  dict_to_save['Label'].append(labels)\n",
        "  #break"
      ],
      "metadata": {
        "id": "OxtavyuJdQzx"
      },
      "execution_count": null,
      "outputs": []
    },
    {
      "cell_type": "code",
      "source": [
        "len(dataset)"
      ],
      "metadata": {
        "colab": {
          "base_uri": "https://localhost:8080/"
        },
        "id": "VGzy-uiTfz7E",
        "outputId": "e1e86247-a2cd-4a46-b514-6746fff77cde"
      },
      "execution_count": null,
      "outputs": [
        {
          "output_type": "execute_result",
          "data": {
            "text/plain": [
              "243"
            ]
          },
          "metadata": {},
          "execution_count": 180
        }
      ]
    },
    {
      "cell_type": "code",
      "source": [
        "import pandas as pd"
      ],
      "metadata": {
        "id": "5PicFibAsVor"
      },
      "execution_count": null,
      "outputs": []
    },
    {
      "cell_type": "code",
      "source": [
        "pd.DataFrame(dict_to_save)"
      ],
      "metadata": {
        "colab": {
          "base_uri": "https://localhost:8080/",
          "height": 468
        },
        "id": "BotjotLXf7Vp",
        "outputId": "b45fc8b4-05f6-4d5c-a5d0-e88ef07bb766"
      },
      "execution_count": null,
      "outputs": [
        {
          "output_type": "execute_result",
          "data": {
            "text/plain": [
              "                                            raw_images  \\\n",
              "0    [[[0.8666667, 0.8666667, 0.8666667, 0.8666667,...   \n",
              "1    [[[0.6666667, 0.67058825, 0.6745098, 0.6745098...   \n",
              "2    [[[0.68235296, 0.654902, 0.6431373, 0.654902, ...   \n",
              "3    [[[0.28627452, 0.28627452, 0.27450982, 0.26274...   \n",
              "4    [[[0.627451, 0.627451, 0.627451, 0.62352943, 0...   \n",
              "..                                                 ...   \n",
              "238  [[[0.0, 0.0, 0.0, 0.0, 0.0, 0.0, 0.0, 0.0, 0.0...   \n",
              "239  [[[0.33333334, 0.35686275, 0.3764706, 0.388235...   \n",
              "240  [[[0.91764706, 0.8627451, 0.95686275, 0.694117...   \n",
              "241  [[[0.011764706, 0.10980392, 0.38431373, 0.4117...   \n",
              "242  [[[0.9764706, 0.9843137, 0.9882353, 0.99607843...   \n",
              "\n",
              "                                            rbg_images  \\\n",
              "0    [[[0.0, 0.0, 0.0, 0.0, 0.0, 0.0, 0.0, 0.0, 0.0...   \n",
              "1    [[[0.0, 0.0, 0.0, 0.0, 0.0, 0.0, 0.0, 0.0, 0.0...   \n",
              "2    [[[0.0, 0.0, 0.0, 0.0, 0.0, 0.0, 0.0, 0.0, 0.0...   \n",
              "3    [[[0.0, 0.0, 0.0, 0.0, 0.0, 0.0, 0.0, 0.0, 0.0...   \n",
              "4    [[[0.0, 0.0, 0.0, 0.0, 0.0, 0.0, 0.0, 0.0, 0.0...   \n",
              "..                                                 ...   \n",
              "238  [[[0.0, 0.0, 0.0, 0.0, 0.0, 0.0, 0.0, 0.0, 0.0...   \n",
              "239  [[[0.0, 0.0, 0.0, 0.0, 0.0, 0.0, 0.0, 0.0, 0.0...   \n",
              "240  [[[0.0, 0.0, 0.0, 0.0, 0.0, 0.0, 0.0, 0.0, 0.0...   \n",
              "241  [[[0.0, 0.0, 0.0, 0.0, 0.0, 0.0, 0.0, 0.0, 0.0...   \n",
              "242  [[[0.0, 0.0, 0.0, 0.0, 0.0, 0.0, 0.0, 0.0, 0.0...   \n",
              "\n",
              "                                   images_to_sentiment   Fear   Sad  Happy  \\\n",
              "0    [[[0.0, 0.0, 0.0, 0.0, 0.0, 0.0, 0.0, 0.0, 0.0...  20.51  0.18  45.78   \n",
              "1    [[[0.0, 0.0, 0.0, 0.0, 0.0, 0.0, 0.0, 0.0, 0.0...  20.17  0.62  22.87   \n",
              "2    [[[0.0, 0.0, 0.0, 0.0, 0.0, 0.0, 0.0, 0.0, 0.0...  10.78  0.34  14.85   \n",
              "3    [[[0.0, 0.0, 0.0, 0.0, 0.0, 0.0, 0.0, 0.0, 0.0...  11.78  0.21  14.35   \n",
              "4    [[[0.0, 0.0, 0.0, 0.0, 0.0, 0.0, 0.0, 0.0, 0.0...  13.11  0.27  26.05   \n",
              "..                                                 ...    ...   ...    ...   \n",
              "238  [[[0.0, 0.0, 0.0, 0.0, 0.0, 0.0, 0.0, 0.0, 0.0...  20.30  1.45  12.64   \n",
              "239  [[[0.0, 0.0, 0.0, 0.0, 0.0, 0.0, 0.0, 0.0, 0.0...  29.71  0.81  33.01   \n",
              "240  [[[0.0, 0.0, 0.0, 0.011764706, 0.05490196, 0.0...  26.30  0.47  19.23   \n",
              "241  [[[0.0, 0.0, 0.0, 0.0, 0.0, 0.0, 0.0, 0.0, 0.0...  15.40  0.36   9.49   \n",
              "242  [[[0.0, 0.0, 0.0, 0.0, 0.0, 0.0, 0.0, 0.0, 0.0...   9.18  0.05  26.81   \n",
              "\n",
              "     Disgust  Surprise  Angry  Neutral  Label  \n",
              "0       9.47      4.71  10.26     9.09      0  \n",
              "1      21.94     13.09  18.40     2.90      0  \n",
              "2      42.70     10.36  16.83     4.14      0  \n",
              "3      31.01     32.42   9.62     0.61      0  \n",
              "4      20.69     16.53  16.33     7.01      0  \n",
              "..       ...       ...    ...      ...    ...  \n",
              "238    25.56     21.44  17.14     1.47      1  \n",
              "239    11.59     10.26  11.98     2.63      1  \n",
              "240    27.80      5.99  12.30     7.91      1  \n",
              "241    36.87     20.47  16.18     1.24      1  \n",
              "242    34.92      8.66  17.63     2.75      1  \n",
              "\n",
              "[243 rows x 11 columns]"
            ],
            "text/html": [
              "\n",
              "  <div id=\"df-3e803f97-c826-400c-9542-801e46daedd4\">\n",
              "    <div class=\"colab-df-container\">\n",
              "      <div>\n",
              "<style scoped>\n",
              "    .dataframe tbody tr th:only-of-type {\n",
              "        vertical-align: middle;\n",
              "    }\n",
              "\n",
              "    .dataframe tbody tr th {\n",
              "        vertical-align: top;\n",
              "    }\n",
              "\n",
              "    .dataframe thead th {\n",
              "        text-align: right;\n",
              "    }\n",
              "</style>\n",
              "<table border=\"1\" class=\"dataframe\">\n",
              "  <thead>\n",
              "    <tr style=\"text-align: right;\">\n",
              "      <th></th>\n",
              "      <th>raw_images</th>\n",
              "      <th>rbg_images</th>\n",
              "      <th>images_to_sentiment</th>\n",
              "      <th>Fear</th>\n",
              "      <th>Sad</th>\n",
              "      <th>Happy</th>\n",
              "      <th>Disgust</th>\n",
              "      <th>Surprise</th>\n",
              "      <th>Angry</th>\n",
              "      <th>Neutral</th>\n",
              "      <th>Label</th>\n",
              "    </tr>\n",
              "  </thead>\n",
              "  <tbody>\n",
              "    <tr>\n",
              "      <th>0</th>\n",
              "      <td>[[[0.8666667, 0.8666667, 0.8666667, 0.8666667,...</td>\n",
              "      <td>[[[0.0, 0.0, 0.0, 0.0, 0.0, 0.0, 0.0, 0.0, 0.0...</td>\n",
              "      <td>[[[0.0, 0.0, 0.0, 0.0, 0.0, 0.0, 0.0, 0.0, 0.0...</td>\n",
              "      <td>20.51</td>\n",
              "      <td>0.18</td>\n",
              "      <td>45.78</td>\n",
              "      <td>9.47</td>\n",
              "      <td>4.71</td>\n",
              "      <td>10.26</td>\n",
              "      <td>9.09</td>\n",
              "      <td>0</td>\n",
              "    </tr>\n",
              "    <tr>\n",
              "      <th>1</th>\n",
              "      <td>[[[0.6666667, 0.67058825, 0.6745098, 0.6745098...</td>\n",
              "      <td>[[[0.0, 0.0, 0.0, 0.0, 0.0, 0.0, 0.0, 0.0, 0.0...</td>\n",
              "      <td>[[[0.0, 0.0, 0.0, 0.0, 0.0, 0.0, 0.0, 0.0, 0.0...</td>\n",
              "      <td>20.17</td>\n",
              "      <td>0.62</td>\n",
              "      <td>22.87</td>\n",
              "      <td>21.94</td>\n",
              "      <td>13.09</td>\n",
              "      <td>18.40</td>\n",
              "      <td>2.90</td>\n",
              "      <td>0</td>\n",
              "    </tr>\n",
              "    <tr>\n",
              "      <th>2</th>\n",
              "      <td>[[[0.68235296, 0.654902, 0.6431373, 0.654902, ...</td>\n",
              "      <td>[[[0.0, 0.0, 0.0, 0.0, 0.0, 0.0, 0.0, 0.0, 0.0...</td>\n",
              "      <td>[[[0.0, 0.0, 0.0, 0.0, 0.0, 0.0, 0.0, 0.0, 0.0...</td>\n",
              "      <td>10.78</td>\n",
              "      <td>0.34</td>\n",
              "      <td>14.85</td>\n",
              "      <td>42.70</td>\n",
              "      <td>10.36</td>\n",
              "      <td>16.83</td>\n",
              "      <td>4.14</td>\n",
              "      <td>0</td>\n",
              "    </tr>\n",
              "    <tr>\n",
              "      <th>3</th>\n",
              "      <td>[[[0.28627452, 0.28627452, 0.27450982, 0.26274...</td>\n",
              "      <td>[[[0.0, 0.0, 0.0, 0.0, 0.0, 0.0, 0.0, 0.0, 0.0...</td>\n",
              "      <td>[[[0.0, 0.0, 0.0, 0.0, 0.0, 0.0, 0.0, 0.0, 0.0...</td>\n",
              "      <td>11.78</td>\n",
              "      <td>0.21</td>\n",
              "      <td>14.35</td>\n",
              "      <td>31.01</td>\n",
              "      <td>32.42</td>\n",
              "      <td>9.62</td>\n",
              "      <td>0.61</td>\n",
              "      <td>0</td>\n",
              "    </tr>\n",
              "    <tr>\n",
              "      <th>4</th>\n",
              "      <td>[[[0.627451, 0.627451, 0.627451, 0.62352943, 0...</td>\n",
              "      <td>[[[0.0, 0.0, 0.0, 0.0, 0.0, 0.0, 0.0, 0.0, 0.0...</td>\n",
              "      <td>[[[0.0, 0.0, 0.0, 0.0, 0.0, 0.0, 0.0, 0.0, 0.0...</td>\n",
              "      <td>13.11</td>\n",
              "      <td>0.27</td>\n",
              "      <td>26.05</td>\n",
              "      <td>20.69</td>\n",
              "      <td>16.53</td>\n",
              "      <td>16.33</td>\n",
              "      <td>7.01</td>\n",
              "      <td>0</td>\n",
              "    </tr>\n",
              "    <tr>\n",
              "      <th>...</th>\n",
              "      <td>...</td>\n",
              "      <td>...</td>\n",
              "      <td>...</td>\n",
              "      <td>...</td>\n",
              "      <td>...</td>\n",
              "      <td>...</td>\n",
              "      <td>...</td>\n",
              "      <td>...</td>\n",
              "      <td>...</td>\n",
              "      <td>...</td>\n",
              "      <td>...</td>\n",
              "    </tr>\n",
              "    <tr>\n",
              "      <th>238</th>\n",
              "      <td>[[[0.0, 0.0, 0.0, 0.0, 0.0, 0.0, 0.0, 0.0, 0.0...</td>\n",
              "      <td>[[[0.0, 0.0, 0.0, 0.0, 0.0, 0.0, 0.0, 0.0, 0.0...</td>\n",
              "      <td>[[[0.0, 0.0, 0.0, 0.0, 0.0, 0.0, 0.0, 0.0, 0.0...</td>\n",
              "      <td>20.30</td>\n",
              "      <td>1.45</td>\n",
              "      <td>12.64</td>\n",
              "      <td>25.56</td>\n",
              "      <td>21.44</td>\n",
              "      <td>17.14</td>\n",
              "      <td>1.47</td>\n",
              "      <td>1</td>\n",
              "    </tr>\n",
              "    <tr>\n",
              "      <th>239</th>\n",
              "      <td>[[[0.33333334, 0.35686275, 0.3764706, 0.388235...</td>\n",
              "      <td>[[[0.0, 0.0, 0.0, 0.0, 0.0, 0.0, 0.0, 0.0, 0.0...</td>\n",
              "      <td>[[[0.0, 0.0, 0.0, 0.0, 0.0, 0.0, 0.0, 0.0, 0.0...</td>\n",
              "      <td>29.71</td>\n",
              "      <td>0.81</td>\n",
              "      <td>33.01</td>\n",
              "      <td>11.59</td>\n",
              "      <td>10.26</td>\n",
              "      <td>11.98</td>\n",
              "      <td>2.63</td>\n",
              "      <td>1</td>\n",
              "    </tr>\n",
              "    <tr>\n",
              "      <th>240</th>\n",
              "      <td>[[[0.91764706, 0.8627451, 0.95686275, 0.694117...</td>\n",
              "      <td>[[[0.0, 0.0, 0.0, 0.0, 0.0, 0.0, 0.0, 0.0, 0.0...</td>\n",
              "      <td>[[[0.0, 0.0, 0.0, 0.011764706, 0.05490196, 0.0...</td>\n",
              "      <td>26.30</td>\n",
              "      <td>0.47</td>\n",
              "      <td>19.23</td>\n",
              "      <td>27.80</td>\n",
              "      <td>5.99</td>\n",
              "      <td>12.30</td>\n",
              "      <td>7.91</td>\n",
              "      <td>1</td>\n",
              "    </tr>\n",
              "    <tr>\n",
              "      <th>241</th>\n",
              "      <td>[[[0.011764706, 0.10980392, 0.38431373, 0.4117...</td>\n",
              "      <td>[[[0.0, 0.0, 0.0, 0.0, 0.0, 0.0, 0.0, 0.0, 0.0...</td>\n",
              "      <td>[[[0.0, 0.0, 0.0, 0.0, 0.0, 0.0, 0.0, 0.0, 0.0...</td>\n",
              "      <td>15.40</td>\n",
              "      <td>0.36</td>\n",
              "      <td>9.49</td>\n",
              "      <td>36.87</td>\n",
              "      <td>20.47</td>\n",
              "      <td>16.18</td>\n",
              "      <td>1.24</td>\n",
              "      <td>1</td>\n",
              "    </tr>\n",
              "    <tr>\n",
              "      <th>242</th>\n",
              "      <td>[[[0.9764706, 0.9843137, 0.9882353, 0.99607843...</td>\n",
              "      <td>[[[0.0, 0.0, 0.0, 0.0, 0.0, 0.0, 0.0, 0.0, 0.0...</td>\n",
              "      <td>[[[0.0, 0.0, 0.0, 0.0, 0.0, 0.0, 0.0, 0.0, 0.0...</td>\n",
              "      <td>9.18</td>\n",
              "      <td>0.05</td>\n",
              "      <td>26.81</td>\n",
              "      <td>34.92</td>\n",
              "      <td>8.66</td>\n",
              "      <td>17.63</td>\n",
              "      <td>2.75</td>\n",
              "      <td>1</td>\n",
              "    </tr>\n",
              "  </tbody>\n",
              "</table>\n",
              "<p>243 rows × 11 columns</p>\n",
              "</div>\n",
              "      <button class=\"colab-df-convert\" onclick=\"convertToInteractive('df-3e803f97-c826-400c-9542-801e46daedd4')\"\n",
              "              title=\"Convert this dataframe to an interactive table.\"\n",
              "              style=\"display:none;\">\n",
              "        \n",
              "  <svg xmlns=\"http://www.w3.org/2000/svg\" height=\"24px\"viewBox=\"0 0 24 24\"\n",
              "       width=\"24px\">\n",
              "    <path d=\"M0 0h24v24H0V0z\" fill=\"none\"/>\n",
              "    <path d=\"M18.56 5.44l.94 2.06.94-2.06 2.06-.94-2.06-.94-.94-2.06-.94 2.06-2.06.94zm-11 1L8.5 8.5l.94-2.06 2.06-.94-2.06-.94L8.5 2.5l-.94 2.06-2.06.94zm10 10l.94 2.06.94-2.06 2.06-.94-2.06-.94-.94-2.06-.94 2.06-2.06.94z\"/><path d=\"M17.41 7.96l-1.37-1.37c-.4-.4-.92-.59-1.43-.59-.52 0-1.04.2-1.43.59L10.3 9.45l-7.72 7.72c-.78.78-.78 2.05 0 2.83L4 21.41c.39.39.9.59 1.41.59.51 0 1.02-.2 1.41-.59l7.78-7.78 2.81-2.81c.8-.78.8-2.07 0-2.86zM5.41 20L4 18.59l7.72-7.72 1.47 1.35L5.41 20z\"/>\n",
              "  </svg>\n",
              "      </button>\n",
              "      \n",
              "  <style>\n",
              "    .colab-df-container {\n",
              "      display:flex;\n",
              "      flex-wrap:wrap;\n",
              "      gap: 12px;\n",
              "    }\n",
              "\n",
              "    .colab-df-convert {\n",
              "      background-color: #E8F0FE;\n",
              "      border: none;\n",
              "      border-radius: 50%;\n",
              "      cursor: pointer;\n",
              "      display: none;\n",
              "      fill: #1967D2;\n",
              "      height: 32px;\n",
              "      padding: 0 0 0 0;\n",
              "      width: 32px;\n",
              "    }\n",
              "\n",
              "    .colab-df-convert:hover {\n",
              "      background-color: #E2EBFA;\n",
              "      box-shadow: 0px 1px 2px rgba(60, 64, 67, 0.3), 0px 1px 3px 1px rgba(60, 64, 67, 0.15);\n",
              "      fill: #174EA6;\n",
              "    }\n",
              "\n",
              "    [theme=dark] .colab-df-convert {\n",
              "      background-color: #3B4455;\n",
              "      fill: #D2E3FC;\n",
              "    }\n",
              "\n",
              "    [theme=dark] .colab-df-convert:hover {\n",
              "      background-color: #434B5C;\n",
              "      box-shadow: 0px 1px 3px 1px rgba(0, 0, 0, 0.15);\n",
              "      filter: drop-shadow(0px 1px 2px rgba(0, 0, 0, 0.3));\n",
              "      fill: #FFFFFF;\n",
              "    }\n",
              "  </style>\n",
              "\n",
              "      <script>\n",
              "        const buttonEl =\n",
              "          document.querySelector('#df-3e803f97-c826-400c-9542-801e46daedd4 button.colab-df-convert');\n",
              "        buttonEl.style.display =\n",
              "          google.colab.kernel.accessAllowed ? 'block' : 'none';\n",
              "\n",
              "        async function convertToInteractive(key) {\n",
              "          const element = document.querySelector('#df-3e803f97-c826-400c-9542-801e46daedd4');\n",
              "          const dataTable =\n",
              "            await google.colab.kernel.invokeFunction('convertToInteractive',\n",
              "                                                     [key], {});\n",
              "          if (!dataTable) return;\n",
              "\n",
              "          const docLinkHtml = 'Like what you see? Visit the ' +\n",
              "            '<a target=\"_blank\" href=https://colab.research.google.com/notebooks/data_table.ipynb>data table notebook</a>'\n",
              "            + ' to learn more about interactive tables.';\n",
              "          element.innerHTML = '';\n",
              "          dataTable['output_type'] = 'display_data';\n",
              "          await google.colab.output.renderOutput(dataTable, element);\n",
              "          const docLink = document.createElement('div');\n",
              "          docLink.innerHTML = docLinkHtml;\n",
              "          element.appendChild(docLink);\n",
              "        }\n",
              "      </script>\n",
              "    </div>\n",
              "  </div>\n",
              "  "
            ]
          },
          "metadata": {},
          "execution_count": 181
        }
      ]
    },
    {
      "cell_type": "code",
      "source": [
        "dataset.classes[label]#label=0"
      ],
      "metadata": {
        "colab": {
          "base_uri": "https://localhost:8080/",
          "height": 35
        },
        "id": "vfczQCQgsUYZ",
        "outputId": "e21d08e5-e9f7-4e7e-e47f-d71acc3f8302"
      },
      "execution_count": null,
      "outputs": [
        {
          "output_type": "execute_result",
          "data": {
            "text/plain": [
              "'AD'"
            ],
            "application/vnd.google.colaboratory.intrinsic+json": {
              "type": "string"
            }
          },
          "metadata": {},
          "execution_count": 182
        }
      ]
    },
    {
      "cell_type": "code",
      "source": [
        "dataset_normal.classes[label]"
      ],
      "metadata": {
        "colab": {
          "base_uri": "https://localhost:8080/",
          "height": 35
        },
        "id": "zFdodun0sl6A",
        "outputId": "0ca97b26-e853-41fb-eea8-63d5c299f140"
      },
      "execution_count": null,
      "outputs": [
        {
          "output_type": "execute_result",
          "data": {
            "text/plain": [
              "'AD'"
            ],
            "application/vnd.google.colaboratory.intrinsic+json": {
              "type": "string"
            }
          },
          "metadata": {},
          "execution_count": 183
        }
      ]
    },
    {
      "cell_type": "code",
      "source": [
        "import pickle"
      ],
      "metadata": {
        "id": "Xj9Mw8MjuAHT"
      },
      "execution_count": null,
      "outputs": []
    },
    {
      "cell_type": "code",
      "source": [
        "with open('data_sentiment_dictionary.pkl', 'wb') as f:\n",
        "    pickle.dump(dict_to_save, f)"
      ],
      "metadata": {
        "id": "_BOL_DXlsnGC"
      },
      "execution_count": null,
      "outputs": []
    },
    {
      "cell_type": "code",
      "source": [
        "!pwd"
      ],
      "metadata": {
        "colab": {
          "base_uri": "https://localhost:8080/"
        },
        "id": "mQD1zHBnuGOB",
        "outputId": "fd5bdbcf-7bb0-4c53-d1a5-d01168db8288"
      },
      "execution_count": null,
      "outputs": [
        {
          "output_type": "stream",
          "name": "stdout",
          "text": [
            "/content/drive/MyDrive/HETIC PFA\n"
          ]
        }
      ]
    },
    {
      "cell_type": "code",
      "source": [
        "original_label = [\"AD\", \"NAD\"]\n",
        "sentiment_labels = ['Fear', 'Sad', 'Happy', 'Disgust', 'Surprise', 'Angry', 'Neutral']"
      ],
      "metadata": {
        "id": "13qDmdHEyPL-"
      },
      "execution_count": null,
      "outputs": []
    },
    {
      "cell_type": "code",
      "source": [
        "import matplotlib.pyplot as plt\n",
        "plt.imshow(dict_to_save['raw_images'][0].transpose(1,2,0))\n",
        "plt.title(label=original_label[dict_to_save['Label'][0]])\n",
        "plt.show()\n",
        "sentiments = tuple(sentiment_labels)\n",
        "d1 = {k: dict_to_save[k][0] for k in sentiments}\n",
        "d1\n",
        "print(d1)"
      ],
      "metadata": {
        "colab": {
          "base_uri": "https://localhost:8080/",
          "height": 298
        },
        "id": "11EVoEhFuFBx",
        "outputId": "b4bb709d-3d90-4775-aac9-cb42aeecd6f9"
      },
      "execution_count": null,
      "outputs": [
        {
          "output_type": "display_data",
          "data": {
            "text/plain": [
              "<Figure size 432x288 with 1 Axes>"
            ],
            "image/png": "[encoded data removed]"
          },
          "metadata": {
            "needs_background": "light"
          }
        },
        {
          "output_type": "stream",
          "name": "stdout",
          "text": [
            "{'Fear': 20.51, 'Sad': 0.18, 'Happy': 45.78, 'Disgust': 9.47, 'Surprise': 4.71, 'Angry': 10.26, 'Neutral': 9.09}\n"
          ]
        }
      ]
    },
    {
      "cell_type": "code",
      "source": [
        "#dict_to_save\n",
        "sentiments = tuple(sentiment_labels)\n",
        "d1 = {k: dict_to_save[k][0] for k in sentiments}\n",
        "d1"
      ],
      "metadata": {
        "colab": {
          "base_uri": "https://localhost:8080/"
        },
        "id": "XnHgMWaquvOe",
        "outputId": "da88c9c5-e821-4fa9-9cf2-2e6246eb7403"
      },
      "execution_count": null,
      "outputs": [
        {
          "output_type": "execute_result",
          "data": {
            "text/plain": [
              "{'Angry': 10.26,\n",
              " 'Disgust': 9.47,\n",
              " 'Fear': 20.51,\n",
              " 'Happy': 45.78,\n",
              " 'Neutral': 9.09,\n",
              " 'Sad': 0.18,\n",
              " 'Surprise': 4.71}"
            ]
          },
          "metadata": {},
          "execution_count": 203
        }
      ]
    },
    {
      "cell_type": "code",
      "source": [
        "d = {0:1, 1:2, 2:3, 10:4, 11:5, 12:6, 100:7, 101:8, 102:9, 200:10, 201:11, 202:12}\n",
        "keys = (0, 1, 2, 100, 101, 102)\n",
        "d1 = {k: d[k] for k in keys}"
      ],
      "metadata": {
        "id": "uR51n-GSzAfy"
      },
      "execution_count": null,
      "outputs": []
    },
    {
      "cell_type": "code",
      "source": [
        "d1"
      ],
      "metadata": {
        "colab": {
          "base_uri": "https://localhost:8080/"
        },
        "id": "ZM9Sg56oznhk",
        "outputId": "cfcf7a66-e6cd-48db-f4a4-444bf574559e"
      },
      "execution_count": null,
      "outputs": [
        {
          "output_type": "execute_result",
          "data": {
            "text/plain": [
              "{0: 1, 1: 2, 2: 3, 100: 7, 101: 8, 102: 9}"
            ]
          },
          "metadata": {},
          "execution_count": 201
        }
      ]
    },
    {
      "cell_type": "code",
      "source": [
        ""
      ],
      "metadata": {
        "id": "uRqnJZiNzoTJ"
      },
      "execution_count": null,
      "outputs": []
    }
  ]
}